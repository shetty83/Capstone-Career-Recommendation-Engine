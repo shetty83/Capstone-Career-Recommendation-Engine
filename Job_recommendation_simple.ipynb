{
 "cells": [
  {
   "cell_type": "code",
   "execution_count": 2,
   "metadata": {
    "collapsed": false
   },
   "outputs": [],
   "source": [
    "import pandas as pd\n",
    "import numpy as np\n",
    "\n",
    "from sklearn.feature_extraction.text import TfidfVectorizer\n",
    "from sklearn.feature_extraction import text\n",
    "from sklearn.metrics.pairwise import cosine_similarity\n",
    "\n",
    "# Skills and Work Experience \n",
    "skills = pd.read_csv('skills.csv').dropna()\n",
    "work_exp = pd.read_csv('work_exp.csv').dropna()\n",
    "\n",
    "# Grouping Skills per User_ID\n",
    "skills['skills'] = [(' ' + i) for i in skills['value']]\n",
    "skills_grpd = skills[['resume_id', 'skills']].groupby('resume_id').sum()\n",
    "\n",
    "# Users Grouped on work Exp descriptions and latest Job Title\n",
    "titles = work_exp[['resume_id','title']].groupby('resume_id').first()\n",
    "user_grpd = work_exp[['resume_id','description']].groupby('resume_id').sum()\n",
    "user_grpd['title'] = titles\n",
    "\n",
    "# Merging Users grouped table and grouped skills table. There are some users without SKILLS\n",
    "merged = user_grpd.merge(skills_grpd, how='left', left_index=True, right_index=True).fillna('')\n",
    "# Concatenating Work Exp description and skills for every user\n",
    "merged['exp_skills'] = merged['description'] + merged['skills']\n",
    "\n",
    "# Create User ID/Resume ID Table\n",
    "users = merged[['exp_skills']]\n",
    "\n",
    "# Create Jobs Table. 2000 most occuring job titles and their description+skills\n",
    "title_skills = merged[merged['skills'] != ''].copy()\n",
    "title_skills['title'] = title_skills.title.str.lower().str.strip()\n",
    "jobs = title_skills[['title','exp_skills']].groupby('title').sum()\n",
    "jobs = jobs[jobs.index.isin(pd.Series(title_skills.title.value_counts().head(1000).index))]\n",
    "\n",
    "#  Vectorization of Job descriptions and SKILLS\n",
    "my_stopwords = ['nbsp','aaa','aba','abc','abandonment','abatement','abaqus']\n",
    "vec = TfidfVectorizer(ngram_range=(1,1), token_pattern='[a-zA-z]{3,50}',  decode_error='ignore',\n",
    "                      max_df=0.5, min_df=10, stop_words=text.ENGLISH_STOP_WORDS.union(my_stopwords) )\n",
    "\n",
    "jobs_matrix = vec.fit_transform(jobs.exp_skills)"
   ]
  },
  {
   "cell_type": "code",
   "execution_count": 3,
   "metadata": {
    "collapsed": false
   },
   "outputs": [],
   "source": [
    "def recommend_user(resume_id):\n",
    "    user_mat = vec.transform(users.exp_skills.loc[[resume_id]])\n",
    "    cos_sim = cosine_similarity(user_mat,jobs_matrix)\n",
    "    df = pd.DataFrame(cos_sim, columns = jobs.index)\n",
    "    scr = df.iloc[[0]].values\n",
    "    top = jobs.index[np.argsort(-scr)]\n",
    "    \n",
    "    print \"Current Job Title :\"\n",
    "    print \"   \" , merged.loc[resume_id].title\n",
    "    print\n",
    "    print \"Top 10 Recommended Jobs :\"\n",
    "    for i in top[0,0:10]:\n",
    "        print \"   \" ,i\n",
    "\n",
    "def recommend_newuser(text_resume):\n",
    "    user_mat = (vec.transform([text_resume]))\n",
    "    cos_sim = cosine_similarity(user_mat,jobs_matrix)\n",
    "    df = pd.DataFrame(cos_sim, columns = jobs.index)\n",
    "    scr = df.iloc[[0]].values\n",
    "    top = jobs.index[np.argsort(-scr)]\n",
    "    \n",
    "    print \"Top 10 Recommended Jobs :\"\n",
    "    for i in top[0,0:10]:\n",
    "        print \"   \" ,i"
   ]
  },
  {
   "cell_type": "code",
   "execution_count": 4,
   "metadata": {
    "collapsed": false
   },
   "outputs": [
    {
     "name": "stdout",
     "output_type": "stream",
     "text": [
      "Current Job Title :\n",
      "    Digital Advertising Sales Executive\n",
      "\n",
      "Top 10 Recommended Jobs :\n",
      "    sales representative\n",
      "    account executive\n",
      "    business development manager\n",
      "    marketing manager\n",
      "    business development representative\n",
      "    advertising sales representative\n",
      "    senior account manager\n",
      "    marketing consultant\n",
      "    marketing coordinator\n",
      "    advertising sales executive\n"
     ]
    }
   ],
   "source": [
    "recommend_user(626)"
   ]
  },
  {
   "cell_type": "code",
   "execution_count": 5,
   "metadata": {
    "collapsed": false
   },
   "outputs": [],
   "source": [
    "# For new user. Copy paste resume as a string\n",
    "resume = '''\n",
    "\n",
    "'''"
   ]
  },
  {
   "cell_type": "code",
   "execution_count": 6,
   "metadata": {
    "collapsed": false
   },
   "outputs": [
    {
     "name": "stdout",
     "output_type": "stream",
     "text": [
      "Top 10 Recommended Jobs :\n",
      "    account coordinator\n",
      "    project manager/product manager/business analyst\n",
      "    project manager/scrum master\n",
      "    project program manager, senior analyst- global packaging\n",
      "    project scheduler\n",
      "    project specialist\n",
      "    project superintendent\n",
      "    project/product manager\n",
      "    promoter\n",
      "    property manager\n"
     ]
    }
   ],
   "source": [
    "recommend_newuser(resume)"
   ]
  },
  {
   "cell_type": "code",
   "execution_count": null,
   "metadata": {
    "collapsed": true
   },
   "outputs": [],
   "source": []
  }
 ],
 "metadata": {
  "anaconda-cloud": {},
  "kernelspec": {
   "display_name": "Python [default]",
   "language": "python",
   "name": "python2"
  },
  "language_info": {
   "codemirror_mode": {
    "name": "ipython",
    "version": 2
   },
   "file_extension": ".py",
   "mimetype": "text/x-python",
   "name": "python",
   "nbconvert_exporter": "python",
   "pygments_lexer": "ipython2",
   "version": "2.7.12"
  }
 },
 "nbformat": 4,
 "nbformat_minor": 1
}
